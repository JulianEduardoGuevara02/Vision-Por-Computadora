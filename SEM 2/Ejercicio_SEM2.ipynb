{
  "nbformat": 4,
  "nbformat_minor": 0,
  "metadata": {
    "colab": {
      "provenance": []
    },
    "kernelspec": {
      "name": "python3",
      "display_name": "Python 3"
    },
    "language_info": {
      "name": "python"
    }
  },
  "cells": [
    {
      "cell_type": "code",
      "execution_count": 1,
      "metadata": {
        "id": "7YYUSRU9oV-6"
      },
      "outputs": [],
      "source": [
        "from google.colab.patches import cv2_imshow\n",
        "import numpy as np\n",
        "import cv2 as cv"
      ]
    },
    {
      "cell_type": "code",
      "source": [
        "def draw_triangle(im, triangle, color=(0,255,0)):\n",
        "    # Normalizar coordenadas homogeneas\n",
        "    triangle = np.array([ v[:-1]/v[-1] for v in triangle] , np.uint16)\n",
        "    cv.drawContours(im, [triangle.astype(int)], 0, color, -1)\n",
        "    for v in triangle:\n",
        "        cv.circle(im, tuple(v), 2, (255,0,255),-1)\n"
      ],
      "metadata": {
        "id": "QYj59lHYohXx"
      },
      "execution_count": 2,
      "outputs": []
    },
    {
      "cell_type": "code",
      "source": [
        "def scale(vertex, sx, sy):\n",
        "    M = np.array([[sx,0,0], [0,sy,1], [0,0,1]]) # Pass a single list of lists as the argument to np.array()\n",
        "    res = M @ vertex.T # Use .T for transpose\n",
        "    return res.T # Use .T for transpose"
      ],
      "metadata": {
        "id": "uBa42uS9opyF"
      },
      "execution_count": 3,
      "outputs": []
    },
    {
      "cell_type": "code",
      "source": [
        "\n",
        "def rotate(vertex, a):\n",
        "   pass"
      ],
      "metadata": {
        "id": "F2PKXpHZoruV"
      },
      "execution_count": 4,
      "outputs": []
    },
    {
      "cell_type": "code",
      "source": [
        "def translate(vertex, dx, dy, a):\n",
        "    M = np.array([[1,0,dx], [0,1,dy], [0,0,1]]) # Pass a single list of lists as the argument to np.array()\n",
        "    res = M @ vertex.T\n",
        "    return res.T"
      ],
      "metadata": {
        "id": "5yx2_hGAotIH"
      },
      "execution_count": 45,
      "outputs": []
    },
    {
      "cell_type": "code",
      "source": [
        "def compuesta(vertex, dx, dy, sx, sy):\n",
        "    M = np.array([[sx*np.cos(a),np.sin(a),dx], [np.sin(a),sy*1,dy], [0,0,1]]) # Removed np and replaced it with 1 assuming you wanted to perform scalar multiplication\n",
        "    res = M @ vertex.T\n",
        "    return res.T"
      ],
      "metadata": {
        "id": "wbdH4FIlxJaU"
      },
      "execution_count": 50,
      "outputs": []
    },
    {
      "cell_type": "code",
      "source": [
        "# image size\n",
        "w = 500\n",
        "h = 500\n",
        "im = np.zeros((h,w,3), np.uint8)"
      ],
      "metadata": {
        "id": "nYuWVieIou8W"
      },
      "execution_count": 48,
      "outputs": []
    },
    {
      "cell_type": "code",
      "source": [
        "# Parametros de las transformaciones\n",
        "# Traslada a centro y realiza escala y rotacion\n",
        "a = 0.5\n",
        "s = 3\n",
        "t = 250"
      ],
      "metadata": {
        "id": "13gnpB1Goxie"
      },
      "execution_count": 49,
      "outputs": []
    },
    {
      "cell_type": "code",
      "source": [
        "# Sistema coordenado de imagenes\n",
        "triangle1 = np.array( [[10,10,1], [70,10,1], [40, 60,1]])"
      ],
      "metadata": {
        "id": "WLp7MDgDozhN"
      },
      "execution_count": 51,
      "outputs": []
    },
    {
      "cell_type": "code",
      "source": [
        "triangle_compost = compuesta(triangle1, t, t, s,s)"
      ],
      "metadata": {
        "id": "MpdoGnqUtMO5"
      },
      "execution_count": 53,
      "outputs": []
    },
    {
      "cell_type": "code",
      "source": [
        "draw_triangle(im, triangle1)\n",
        "draw_triangle(im, triangle_compost, color= (0,100,255))"
      ],
      "metadata": {
        "id": "CIxL1j3QsZ0i"
      },
      "execution_count": 56,
      "outputs": []
    },
    {
      "cell_type": "code",
      "source": [
        "cv2_imshow(im)"
      ],
      "metadata": {
        "colab": {
          "base_uri": "https://localhost:8080/",
          "height": 517
        },
        "id": "S1cn-0NCsfgS",
        "outputId": "caf17a6e-e567-4897-8e44-00360527909d"
      },
      "execution_count": 57,
      "outputs": [
        {
          "output_type": "display_data",
          "data": {
            "text/plain": [
              "<PIL.Image.Image image mode=RGB size=500x500>"
            ],
            "image/png": "[encoded data removed]"
          },
          "metadata": {}
        }
      ]
    }
  ]
}